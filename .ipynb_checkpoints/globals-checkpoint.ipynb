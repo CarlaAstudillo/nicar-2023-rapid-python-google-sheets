{
 "cells": [
  {
   "cell_type": "code",
   "execution_count": 1,
   "id": "fce0075a",
   "metadata": {},
   "outputs": [],
   "source": [
    "# Setting up pandas stuff\n",
    "import pandas as pd\n",
    "pd.set_option('display.max_columns', None)"
   ]
  },
  {
   "cell_type": "code",
   "execution_count": 2,
   "id": "0265e5ec",
   "metadata": {},
   "outputs": [],
   "source": [
    "# Formatting\n",
    "\n",
    "def comma_format(x):\n",
    "    return '{:,.0f}'.format(round(x,2))\n",
    "\n",
    "\n",
    "def pct_format(x):\n",
    "    return '{0:.2f}%'.format(round(x,2))"
   ]
  },
  {
   "cell_type": "code",
   "execution_count": 4,
   "id": "b2d4d692",
   "metadata": {},
   "outputs": [],
   "source": [
    "# Google Sheets permissions\n",
    "import gspread\n",
    "from oauth2client.service_account import ServiceAccountCredentials\n",
    "from gspread_dataframe import set_with_dataframe\n",
    "\n",
    "# use creds to create a client to interact with the Google Drive API\n",
    "scope = ['https://spreadsheets.google.com/feeds',\n",
    "         'https://www.googleapis.com/auth/drive']\n",
    "\n",
    "creds = ServiceAccountCredentials.from_json_keyfile_name('.nicar-analysis-example-credentials.json', scope)\n",
    "client = gspread.authorize(creds)"
   ]
  },
  {
   "cell_type": "code",
   "execution_count": 5,
   "id": "8732482f",
   "metadata": {},
   "outputs": [],
   "source": [
    "from apiclient import discovery\n",
    "\n",
    "# Upload Google Spreadsheets to Drive\n",
    "\n",
    "## If there is no existing Google spreadsheet, it will create a new one\n",
    "def createNewSheetIfNotExist(google_sheet_name, google_folderID):\n",
    "    if google_sheet_name not in [sh.title for sh in client.openall()]:\n",
    "        destFolderId = google_folderID\n",
    "        drive_service = discovery.build('drive', 'v3', credentials=creds)\n",
    "        file_metadata = {\n",
    "            'name': google_sheet_name,\n",
    "            'mimeType': 'application/vnd.google-apps.spreadsheet',\n",
    "            'parents': [destFolderId]\n",
    "        }\n",
    "        fileupload = drive_service.files().create(body=file_metadata,supportsAllDrives=True).execute()\n",
    "        return fileupload\n",
    "        print('A new spreadsheet is being created!')"
   ]
  },
  {
   "cell_type": "code",
   "execution_count": null,
   "id": "fb5f7ab8",
   "metadata": {},
   "outputs": [],
   "source": []
  }
 ],
 "metadata": {
  "kernelspec": {
   "display_name": "Python 3 (ipykernel)",
   "language": "python",
   "name": "python3"
  },
  "language_info": {
   "codemirror_mode": {
    "name": "ipython",
    "version": 3
   },
   "file_extension": ".py",
   "mimetype": "text/x-python",
   "name": "python",
   "nbconvert_exporter": "python",
   "pygments_lexer": "ipython3",
   "version": "3.7.7"
  }
 },
 "nbformat": 4,
 "nbformat_minor": 5
}
